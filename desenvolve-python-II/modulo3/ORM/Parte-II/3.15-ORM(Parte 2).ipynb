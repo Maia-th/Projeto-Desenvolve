{
 "cells": [
  {
   "cell_type": "markdown",
   "metadata": {},
   "source": [
    "## Exercícios\n",
    "\n",
    "> Retirados de [learn-python: sqlalchemy_orm-questions](https://aviadr1.github.io/learn-advanced-python/11_db_access/exercise/sqlalchemy_orm-questions.html).\n",
    "\n",
    "#### Q1.\n",
    "\n",
    "Baixa e extraia o arquivo compactado com o banco de dados [Chinook database](https://www.sqlitetutorial.net/sqlite-sample-database/). Salve o arquivo `chinook.db` na mesma pasta deste script.\n",
    "* Link para baixar: http://www.sqlitetutorial.net/wp-content/uploads/2018/03/chinook.zip\n",
    "\n",
    "<img width=500 src=https://www.sqlitetutorial.net/wp-content/uploads/2015/11/sqlite-sample-database-color.jpg>\n"
   ]
  },
  {
   "cell_type": "markdown",
   "metadata": {},
   "source": [
    "#### Q2.\n",
    "\n",
    "Leia o código e os comentários das células a seguir para entender como acessamos os modelos ORM de um banco já existente."
   ]
  },
  {
   "cell_type": "code",
   "execution_count": 1,
   "metadata": {},
   "outputs": [
    {
     "name": "stdout",
     "output_type": "stream",
     "text": [
      "albums\n",
      "['AlbumId', 'Title', 'ArtistId']\n",
      "[('AlbumId', Column('AlbumId', INTEGER(), table=<albums>, primary_key=True, nullable=False)), ('Title', Column('Title', NVARCHAR(length=160), table=<albums>, nullable=False)), ('ArtistId', Column('ArtistId', INTEGER(), ForeignKey('artists.ArtistId'), table=<albums>, nullable=False))]\n",
      "-------------------------\n",
      "artists\n",
      "['ArtistId', 'Name']\n",
      "[('ArtistId', Column('ArtistId', INTEGER(), table=<artists>, primary_key=True, nullable=False)), ('Name', Column('Name', NVARCHAR(length=120), table=<artists>))]\n",
      "-------------------------\n",
      "customers\n",
      "['CustomerId', 'FirstName', 'LastName', 'Company', 'Address', 'City', 'State', 'Country', 'PostalCode', 'Phone', 'Fax', 'Email', 'SupportRepId']\n",
      "[('CustomerId', Column('CustomerId', INTEGER(), table=<customers>, primary_key=True, nullable=False)), ('FirstName', Column('FirstName', NVARCHAR(length=40), table=<customers>, nullable=False)), ('LastName', Column('LastName', NVARCHAR(length=20), table=<customers>, nullable=False)), ('Company', Column('Company', NVARCHAR(length=80), table=<customers>)), ('Address', Column('Address', NVARCHAR(length=70), table=<customers>)), ('City', Column('City', NVARCHAR(length=40), table=<customers>)), ('State', Column('State', NVARCHAR(length=40), table=<customers>)), ('Country', Column('Country', NVARCHAR(length=40), table=<customers>)), ('PostalCode', Column('PostalCode', NVARCHAR(length=10), table=<customers>)), ('Phone', Column('Phone', NVARCHAR(length=24), table=<customers>)), ('Fax', Column('Fax', NVARCHAR(length=24), table=<customers>)), ('Email', Column('Email', NVARCHAR(length=60), table=<customers>, nullable=False)), ('SupportRepId', Column('SupportRepId', INTEGER(), ForeignKey('employees.EmployeeId'), table=<customers>))]\n",
      "-------------------------\n",
      "employees\n",
      "['EmployeeId', 'LastName', 'FirstName', 'Title', 'ReportsTo', 'BirthDate', 'HireDate', 'Address', 'City', 'State', 'Country', 'PostalCode', 'Phone', 'Fax', 'Email']\n",
      "[('EmployeeId', Column('EmployeeId', INTEGER(), table=<employees>, primary_key=True, nullable=False)), ('LastName', Column('LastName', NVARCHAR(length=20), table=<employees>, nullable=False)), ('FirstName', Column('FirstName', NVARCHAR(length=20), table=<employees>, nullable=False)), ('Title', Column('Title', NVARCHAR(length=30), table=<employees>)), ('ReportsTo', Column('ReportsTo', INTEGER(), ForeignKey('employees.EmployeeId'), table=<employees>)), ('BirthDate', Column('BirthDate', DATETIME(), table=<employees>)), ('HireDate', Column('HireDate', DATETIME(), table=<employees>)), ('Address', Column('Address', NVARCHAR(length=70), table=<employees>)), ('City', Column('City', NVARCHAR(length=40), table=<employees>)), ('State', Column('State', NVARCHAR(length=40), table=<employees>)), ('Country', Column('Country', NVARCHAR(length=40), table=<employees>)), ('PostalCode', Column('PostalCode', NVARCHAR(length=10), table=<employees>)), ('Phone', Column('Phone', NVARCHAR(length=24), table=<employees>)), ('Fax', Column('Fax', NVARCHAR(length=24), table=<employees>)), ('Email', Column('Email', NVARCHAR(length=60), table=<employees>))]\n",
      "-------------------------\n",
      "genres\n",
      "['GenreId', 'Name']\n",
      "[('GenreId', Column('GenreId', INTEGER(), table=<genres>, primary_key=True, nullable=False)), ('Name', Column('Name', NVARCHAR(length=120), table=<genres>))]\n",
      "-------------------------\n",
      "invoice_items\n",
      "['InvoiceLineId', 'InvoiceId', 'TrackId', 'UnitPrice', 'Quantity']\n",
      "[('InvoiceLineId', Column('InvoiceLineId', INTEGER(), table=<invoice_items>, primary_key=True, nullable=False)), ('InvoiceId', Column('InvoiceId', INTEGER(), ForeignKey('invoices.InvoiceId'), table=<invoice_items>, nullable=False)), ('TrackId', Column('TrackId', INTEGER(), ForeignKey('tracks.TrackId'), table=<invoice_items>, nullable=False)), ('UnitPrice', Column('UnitPrice', NUMERIC(precision=10, scale=2), table=<invoice_items>, nullable=False)), ('Quantity', Column('Quantity', INTEGER(), table=<invoice_items>, nullable=False))]\n",
      "-------------------------\n",
      "tracks\n",
      "['TrackId', 'Name', 'AlbumId', 'MediaTypeId', 'GenreId', 'Composer', 'Milliseconds', 'Bytes', 'UnitPrice']\n",
      "[('TrackId', Column('TrackId', INTEGER(), table=<tracks>, primary_key=True, nullable=False)), ('Name', Column('Name', NVARCHAR(length=200), table=<tracks>, nullable=False)), ('AlbumId', Column('AlbumId', INTEGER(), ForeignKey('albums.AlbumId'), table=<tracks>)), ('MediaTypeId', Column('MediaTypeId', INTEGER(), ForeignKey('media_types.MediaTypeId'), table=<tracks>, nullable=False)), ('GenreId', Column('GenreId', INTEGER(), ForeignKey('genres.GenreId'), table=<tracks>)), ('Composer', Column('Composer', NVARCHAR(length=220), table=<tracks>)), ('Milliseconds', Column('Milliseconds', INTEGER(), table=<tracks>, nullable=False)), ('Bytes', Column('Bytes', INTEGER(), table=<tracks>)), ('UnitPrice', Column('UnitPrice', NUMERIC(precision=10, scale=2), table=<tracks>, nullable=False))]\n",
      "-------------------------\n",
      "media_types\n",
      "['MediaTypeId', 'Name']\n",
      "[('MediaTypeId', Column('MediaTypeId', INTEGER(), table=<media_types>, primary_key=True, nullable=False)), ('Name', Column('Name', NVARCHAR(length=120), table=<media_types>))]\n",
      "-------------------------\n",
      "invoices\n",
      "['InvoiceId', 'CustomerId', 'InvoiceDate', 'BillingAddress', 'BillingCity', 'BillingState', 'BillingCountry', 'BillingPostalCode', 'Total']\n",
      "[('InvoiceId', Column('InvoiceId', INTEGER(), table=<invoices>, primary_key=True, nullable=False)), ('CustomerId', Column('CustomerId', INTEGER(), ForeignKey('customers.CustomerId'), table=<invoices>, nullable=False)), ('InvoiceDate', Column('InvoiceDate', DATETIME(), table=<invoices>, nullable=False)), ('BillingAddress', Column('BillingAddress', NVARCHAR(length=70), table=<invoices>)), ('BillingCity', Column('BillingCity', NVARCHAR(length=40), table=<invoices>)), ('BillingState', Column('BillingState', NVARCHAR(length=40), table=<invoices>)), ('BillingCountry', Column('BillingCountry', NVARCHAR(length=40), table=<invoices>)), ('BillingPostalCode', Column('BillingPostalCode', NVARCHAR(length=10), table=<invoices>)), ('Total', Column('Total', NUMERIC(precision=10, scale=2), table=<invoices>, nullable=False))]\n",
      "-------------------------\n",
      "playlist_track\n",
      "['PlaylistId', 'TrackId']\n",
      "[('PlaylistId', Column('PlaylistId', INTEGER(), ForeignKey('playlists.PlaylistId'), table=<playlist_track>, primary_key=True, nullable=False)), ('TrackId', Column('TrackId', INTEGER(), ForeignKey('tracks.TrackId'), table=<playlist_track>, primary_key=True, nullable=False))]\n",
      "-------------------------\n",
      "playlists\n",
      "['PlaylistId', 'Name']\n",
      "[('PlaylistId', Column('PlaylistId', INTEGER(), table=<playlists>, primary_key=True, nullable=False)), ('Name', Column('Name', NVARCHAR(length=120), table=<playlists>))]\n",
      "-------------------------\n",
      "[('tracks', <class 'sqlalchemy.ext.automap.tracks'>), ('artists', <class 'sqlalchemy.ext.automap.artists'>), ('customers', <class 'sqlalchemy.ext.automap.customers'>), ('genres', <class 'sqlalchemy.ext.automap.genres'>), ('media_types', <class 'sqlalchemy.ext.automap.media_types'>), ('invoices', <class 'sqlalchemy.ext.automap.invoices'>), ('playlists', <class 'sqlalchemy.ext.automap.playlists'>), ('albums', <class 'sqlalchemy.ext.automap.albums'>), ('employees', <class 'sqlalchemy.ext.automap.employees'>), ('invoice_items', <class 'sqlalchemy.ext.automap.invoice_items'>)]\n"
     ]
    }
   ],
   "source": [
    "from sqlalchemy import create_engine, text, MetaData\n",
    "from sqlalchemy.orm import Session\n",
    "\n",
    "engine = create_engine(\"sqlite+pysqlite:///chinook.db\", echo=False)\n",
    "\n",
    "### extrai as classes da base de dados Chinook\n",
    "metadata = MetaData()\n",
    "metadata.reflect(engine)\n",
    "\n",
    "# O metadata tem informações sobre as tabelas\n",
    "# que serão usadas para criar os modelos ORM\n",
    "for table_name, table in metadata.tables.items():\n",
    "    print(table_name)\n",
    "    print(table.columns.keys())\n",
    "    print(table.columns.items())\n",
    "    print('-'*25)\n",
    "\n",
    "### configura o objeto Base mapeando os modelos ORM das tabelas\n",
    "from sqlalchemy.ext.automap import automap_base\n",
    "Base = automap_base(metadata=metadata)\n",
    "Base.prepare()\n",
    "\n",
    "# o objeto Base tem os modelos ORM que podemos usar\n",
    "# para manipular o banco de dados\n",
    "print(Base.classes.items())"
   ]
  },
  {
   "cell_type": "code",
   "execution_count": 3,
   "metadata": {},
   "outputs": [
    {
     "name": "stdout",
     "output_type": "stream",
     "text": [
      "1 For Those About To Rock We Salute You\n"
     ]
    }
   ],
   "source": [
    "from sqlalchemy import select\n",
    "#  A seguir um exemplo de query na tabela Albums\n",
    "# usamos o objeto Base para acessar cada modelo ORM.\n",
    "\n",
    "session = Session(engine)\n",
    "res = session.scalars(select(Base.classes.albums))\n",
    "first_album = res.first()\n",
    "print(first_album.AlbumId, first_album.Title)"
   ]
  },
  {
   "cell_type": "markdown",
   "metadata": {},
   "source": [
    "#### Q3. \n",
    "Com base nos códigos anteriores realize as operações solicitadas nas células a seguir:\n"
   ]
  },
  {
   "cell_type": "code",
   "execution_count": 4,
   "metadata": {},
   "outputs": [
    {
     "name": "stdout",
     "output_type": "stream",
     "text": [
      "TrackId: 1, Name: For Those About To Rock (We Salute You), AlbumId: 1, GenreId: 1\n",
      "TrackId: 2, Name: Balls to the Wall, AlbumId: 2, GenreId: 1\n",
      "TrackId: 3, Name: Fast As a Shark, AlbumId: 3, GenreId: 1\n"
     ]
    }
   ],
   "source": [
    "from sqlalchemy.orm import Session\n",
    "from sqlalchemy import select\n",
    "\n",
    "# Criar uma sessão\n",
    "with Session(engine) as session:\n",
    "    # Consultar os três primeiros registros da tabela tracks\n",
    "    Tracks = Base.classes.tracks  # Obter a classe mapeada para a tabela tracks\n",
    "    res = session.execute(select(Tracks).limit(3))  # Limitar a consulta aos 3 primeiros registros\n",
    "    tracks = res.scalars().all()  # Extrair os objetos ORM da consulta\n",
    "\n",
    "    # Imprimir os três primeiros registros\n",
    "    for track in tracks:\n",
    "        print(f\"TrackId: {track.TrackId}, Name: {track.Name}, AlbumId: {track.AlbumId}, GenreId: {track.GenreId}\")"
   ]
  },
  {
   "cell_type": "code",
   "execution_count": 5,
   "metadata": {},
   "outputs": [
    {
     "name": "stdout",
     "output_type": "stream",
     "text": [
      "Track Name: For Those About To Rock (We Salute You), Album Title: For Those About To Rock We Salute You\n",
      "Track Name: Put The Finger On You, Album Title: For Those About To Rock We Salute You\n",
      "Track Name: Let's Get It Up, Album Title: For Those About To Rock We Salute You\n",
      "Track Name: Inject The Venom, Album Title: For Those About To Rock We Salute You\n",
      "Track Name: Snowballed, Album Title: For Those About To Rock We Salute You\n",
      "Track Name: Evil Walks, Album Title: For Those About To Rock We Salute You\n",
      "Track Name: C.O.D., Album Title: For Those About To Rock We Salute You\n",
      "Track Name: Breaking The Rules, Album Title: For Those About To Rock We Salute You\n",
      "Track Name: Night Of The Long Knives, Album Title: For Those About To Rock We Salute You\n",
      "Track Name: Spellbound, Album Title: For Those About To Rock We Salute You\n",
      "Track Name: Balls to the Wall, Album Title: Balls to the Wall\n",
      "Track Name: Fast As a Shark, Album Title: Restless and Wild\n",
      "Track Name: Restless and Wild, Album Title: Restless and Wild\n",
      "Track Name: Princess of the Dawn, Album Title: Restless and Wild\n",
      "Track Name: Go Down, Album Title: Let There Be Rock\n",
      "Track Name: Dog Eat Dog, Album Title: Let There Be Rock\n",
      "Track Name: Let There Be Rock, Album Title: Let There Be Rock\n",
      "Track Name: Bad Boy Boogie, Album Title: Let There Be Rock\n",
      "Track Name: Problem Child, Album Title: Let There Be Rock\n",
      "Track Name: Overdose, Album Title: Let There Be Rock\n"
     ]
    }
   ],
   "source": [
    "from sqlalchemy.orm import Session\n",
    "from sqlalchemy import select\n",
    "\n",
    "# Obter as classes mapeadas para as tabelas tracks e albums\n",
    "Tracks = Base.classes.tracks\n",
    "Albums = Base.classes.albums\n",
    "\n",
    "# Criar uma sessão\n",
    "with Session(engine) as session:\n",
    "    # Fazer uma consulta para obter o nome da faixa e o título do álbum das primeiras 20 faixas\n",
    "    query = (\n",
    "        select(Tracks.Name, Albums.Title)\n",
    "        .join(Albums, Tracks.AlbumId == Albums.AlbumId)\n",
    "        .limit(20)  # Limitar o resultado às primeiras 20 faixas\n",
    "    )\n",
    "    result = session.execute(query).all()\n",
    "\n",
    "    # Imprimir o nome da faixa e o título do álbum\n",
    "    for track_name, album_title in result:\n",
    "        print(f\"Track Name: {track_name}, Album Title: {album_title}\")"
   ]
  },
  {
   "cell_type": "code",
   "execution_count": null,
   "metadata": {},
   "outputs": [
    {
     "name": "stdout",
     "output_type": "stream",
     "text": [
      "Track Name: Balls to the Wall, Quantity Sold: 1\n",
      "Track Name: Restless and Wild, Quantity Sold: 1\n",
      "Track Name: Put The Finger On You, Quantity Sold: 1\n",
      "Track Name: Inject The Venom, Quantity Sold: 1\n",
      "Track Name: Evil Walks, Quantity Sold: 1\n",
      "Track Name: Breaking The Rules, Quantity Sold: 1\n",
      "Track Name: Dog Eat Dog, Quantity Sold: 1\n",
      "Track Name: Overdose, Quantity Sold: 1\n",
      "Track Name: Love In An Elevator, Quantity Sold: 1\n",
      "Track Name: Janie's Got A Gun, Quantity Sold: 1\n"
     ]
    }
   ],
   "source": [
    "from sqlalchemy.orm import Session\n",
    "from sqlalchemy import select\n",
    "\n",
    "# Obter as classes mapeadas para as tabelas invoice_items e tracks\n",
    "InvoiceItems = Base.classes.invoice_items\n",
    "Tracks = Base.classes.tracks\n",
    "\n",
    "# Criar uma sessão\n",
    "with Session(engine) as session:\n",
    "    # Fazer uma consulta para obter as 10 primeiras vendas\n",
    "    query = (\n",
    "        select(InvoiceItems.Quantity, Tracks.Name)\n",
    "        .join(Tracks, InvoiceItems.TrackId == Tracks.TrackId)\n",
    "        .limit(10)  # Limitar o resultado às 10 primeiras vendas\n",
    "    )\n",
    "    result = session.execute(query).all()\n",
    "\n",
    "    # Imprimir os nomes das faixas vendidas e a quantidade vendida\n",
    "    for quantity, track_name in result:\n",
    "        print(f\"Track Name: {track_name}, Quantity Sold: {quantity}\")"
   ]
  },
  {
   "cell_type": "code",
   "execution_count": 7,
   "metadata": {},
   "outputs": [
    {
     "name": "stdout",
     "output_type": "stream",
     "text": [
      "Track Name: The Trooper, Total Sold: 5\n",
      "Track Name: Untitled, Total Sold: 4\n",
      "Track Name: The Number Of The Beast, Total Sold: 4\n",
      "Track Name: Sure Know Something, Total Sold: 4\n",
      "Track Name: Hallowed Be Thy Name, Total Sold: 4\n",
      "Track Name: Eruption, Total Sold: 4\n",
      "Track Name: Where Eagles Dare, Total Sold: 3\n",
      "Track Name: Welcome Home (Sanitarium), Total Sold: 3\n",
      "Track Name: Sweetest Thing, Total Sold: 3\n",
      "Track Name: Surrender, Total Sold: 3\n"
     ]
    }
   ],
   "source": [
    "from sqlalchemy.orm import Session\n",
    "from sqlalchemy import select, func, desc\n",
    "\n",
    "# Obter as classes mapeadas para as tabelas invoice_items e tracks\n",
    "InvoiceItems = Base.classes.invoice_items\n",
    "Tracks = Base.classes.tracks\n",
    "\n",
    "# Criar uma sessão\n",
    "with Session(engine) as session:\n",
    "    # Consultar as 10 faixas mais vendidas\n",
    "    query = (\n",
    "        select(Tracks.Name, func.sum(InvoiceItems.Quantity).label(\"total_sold\"))\n",
    "        .join(Tracks, InvoiceItems.TrackId == Tracks.TrackId)\n",
    "        .group_by(Tracks.Name)\n",
    "        .order_by(desc(\"total_sold\"))  # Ordenar pela quantidade vendida em ordem decrescente\n",
    "        .limit(10)  # Limitar aos 10 primeiros resultados\n",
    "    )\n",
    "    result = session.execute(query).all()\n",
    "\n",
    "    # Imprimir os nomes das faixas mais vendidas e o número de vezes que foram vendidas\n",
    "    for track_name, total_sold in result:\n",
    "        print(f\"Track Name: {track_name}, Total Sold: {total_sold}\")"
   ]
  },
  {
   "cell_type": "code",
   "execution_count": 8,
   "metadata": {},
   "outputs": [
    {
     "name": "stdout",
     "output_type": "stream",
     "text": [
      "Artist Name: Iron Maiden, Total Sold: 140\n",
      "Artist Name: U2, Total Sold: 107\n",
      "Artist Name: Metallica, Total Sold: 91\n",
      "Artist Name: Led Zeppelin, Total Sold: 87\n",
      "Artist Name: Os Paralamas Do Sucesso, Total Sold: 45\n",
      "Artist Name: Deep Purple, Total Sold: 44\n",
      "Artist Name: Faith No More, Total Sold: 42\n",
      "Artist Name: Lost, Total Sold: 41\n",
      "Artist Name: Eric Clapton, Total Sold: 40\n",
      "Artist Name: R.E.M., Total Sold: 39\n"
     ]
    }
   ],
   "source": [
    "from sqlalchemy.orm import Session\n",
    "from sqlalchemy import select, func, desc\n",
    "\n",
    "# Obter as classes mapeadas para as tabelas invoice_items, tracks, albums e artists\n",
    "InvoiceItems = Base.classes.invoice_items\n",
    "Tracks = Base.classes.tracks\n",
    "Albums = Base.classes.albums\n",
    "Artists = Base.classes.artists\n",
    "\n",
    "# Criar uma sessão\n",
    "with Session(engine) as session:\n",
    "    # Consultar os 10 artistas que mais venderam\n",
    "    query = (\n",
    "        select(Artists.Name, func.sum(InvoiceItems.Quantity).label(\"total_sold\"))\n",
    "        .join(Tracks, InvoiceItems.TrackId == Tracks.TrackId)        # Join com tracks\n",
    "        .join(Albums, Tracks.AlbumId == Albums.AlbumId)             # Join com albums\n",
    "        .join(Artists, Albums.ArtistId == Artists.ArtistId)         # Join com artists\n",
    "        .group_by(Artists.Name)                                     # Agrupar por artista\n",
    "        .order_by(desc(\"total_sold\"))                               # Ordenar pela soma decrescente\n",
    "        .limit(10)                                                  # Limitar aos 10 primeiros\n",
    "    )\n",
    "    result = session.execute(query).all()\n",
    "\n",
    "    # Imprimir os nomes dos artistas e o número total de vendas\n",
    "    for artist_name, total_sold in result:\n",
    "        print(f\"Artist Name: {artist_name}, Total Sold: {total_sold}\")"
   ]
  }
 ],
 "metadata": {
  "kernelspec": {
   "display_name": "Python 3",
   "language": "python",
   "name": "python3"
  },
  "language_info": {
   "codemirror_mode": {
    "name": "ipython",
    "version": 3
   },
   "file_extension": ".py",
   "mimetype": "text/x-python",
   "name": "python",
   "nbconvert_exporter": "python",
   "pygments_lexer": "ipython3",
   "version": "3.10.12"
  }
 },
 "nbformat": 4,
 "nbformat_minor": 2
}
