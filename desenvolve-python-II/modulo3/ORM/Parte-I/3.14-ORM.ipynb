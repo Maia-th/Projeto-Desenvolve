{
 "cells": [
  {
   "cell_type": "markdown",
   "metadata": {},
   "source": [
    "> Projeto Desenvolve <br>\n",
    "Programação Intermediária com Python <br>\n",
    "Profa. Camila Laranjeira (mila@projetodesenvolve.com.br) <br>\n",
    "\n",
    "# 3.14 - ORM"
   ]
  },
  {
   "cell_type": "markdown",
   "metadata": {},
   "source": [
    "## Exercícios\n",
    "\n",
    "#### Q1. Conhecendo os dados\n",
    "Baixe o seguinte csv onde iremos trabalhar. Ele contém informações sobre salários de profissionais de dados de uma empresa hipotética entre 2009 e 2016\n",
    "* https://github.com/camilalaranjeira/python-intermediario/blob/main/salaries.csv\n",
    "\n",
    "Suas colunas, descritas na [página do Kaggle que contém o dataset](https://www.kaggle.com/datasets/krishujeniya/salary-prediction-of-data-professions?resource=download), são:\n",
    "* FIRST NAME: Primeiro nome do profissional de dados (String)\n",
    "* LAST NAME: Sobrenome do profissional de dados (String)\n",
    "* SEX: Gênero do profissional de dados (String: 'F' para Feminino, 'M' para Masculino)\n",
    "* DOJ (Date of Joining): A data em que o profissional de dados ingressou na empresa (Data no formato MM/DD/AAAA)\n",
    "* CURRENT DATE: A data atual ou a data de referência dos dados (Data no formato MM/DD/AAAA)\n",
    "* DESIGNATION: O cargo ou designação do profissional de dados (String: ex., Analista, Analista Sênior, Gerente)\n",
    "* AGE: Idade do profissional de dados (Integer)\n",
    "* SALARY: Salário anual do profissional de dados (Float)\n",
    "* UNIT: Unidade de negócios ou departamento em que o profissional de dados trabalha (String: ex., TI, Finanças, Marketing)\n",
    "* LEAVES USED: Número de licenças utilizadas pelo profissional de dados (Integer)\n",
    "* LEAVES REMAINING: Número de licenças restantes para o profissional de dados (Integer)\n",
    "* RATINGS: Avaliações de desempenho do profissional de dados (Float)\n",
    "* PAST EXP: Experiência de trabalho anterior em anos antes de ingressar na empresa atual (Float)\n",
    "\n",
    "Na célula a seguir, **carregue os dados do CSV e dê uma olhada neles antes de seguir**."
   ]
  },
  {
   "cell_type": "code",
   "execution_count": 17,
   "metadata": {},
   "outputs": [
    {
     "name": "stdout",
     "output_type": "stream",
     "text": [
      "  FIRST NAME   LAST NAME SEX         DOJ CURRENT DATE DESIGNATION   AGE  \\\n",
      "0     TOMASA       ARMEN   F   5-18-2014   01-07-2016     Analyst  21.0   \n",
      "1      ANNIE         NaN   F         NaN   01-07-2016   Associate   NaN   \n",
      "2      OLIVE        ANCY   F   7-28-2014   01-07-2016     Analyst  21.0   \n",
      "3     CHERRY     AQUILAR   F  04-03-2013   01-07-2016     Analyst  22.0   \n",
      "4       LEON  ABOULAHOUD   M  11-20-2014   01-07-2016     Analyst   NaN   \n",
      "\n",
      "   SALARY        UNIT  LEAVES USED  LEAVES REMAINING  RATINGS  PAST EXP  \n",
      "0   44570     Finance         24.0               6.0      2.0         0  \n",
      "1   89207         Web          NaN              13.0      NaN         7  \n",
      "2   40955     Finance         23.0               7.0      3.0         0  \n",
      "3   45550          IT         22.0               8.0      3.0         0  \n",
      "4   43161  Operations         27.0               3.0      NaN         3  \n",
      "\n",
      "Informações sobre o DataFrame:\n",
      "<class 'pandas.core.frame.DataFrame'>\n",
      "RangeIndex: 2639 entries, 0 to 2638\n",
      "Data columns (total 13 columns):\n",
      " #   Column            Non-Null Count  Dtype  \n",
      "---  ------            --------------  -----  \n",
      " 0   FIRST NAME        2639 non-null   object \n",
      " 1   LAST NAME         2637 non-null   object \n",
      " 2   SEX               2639 non-null   object \n",
      " 3   DOJ               2638 non-null   object \n",
      " 4   CURRENT DATE      2639 non-null   object \n",
      " 5   DESIGNATION       2639 non-null   object \n",
      " 6   AGE               2636 non-null   float64\n",
      " 7   SALARY            2639 non-null   int64  \n",
      " 8   UNIT              2639 non-null   object \n",
      " 9   LEAVES USED       2636 non-null   float64\n",
      " 10  LEAVES REMAINING  2637 non-null   float64\n",
      " 11  RATINGS           2637 non-null   float64\n",
      " 12  PAST EXP          2639 non-null   int64  \n",
      "dtypes: float64(4), int64(2), object(7)\n",
      "memory usage: 268.1+ KB\n",
      "None\n"
     ]
    }
   ],
   "source": [
    "import pandas as pd\n",
    "\n",
    "# Carregando o arquivo CSV\n",
    "df = pd.read_csv(\"salaries.csv\")\n",
    "\n",
    "# Exibindo as primeiras linhas do DataFrame\n",
    "print(df.head())\n",
    "\n",
    "# Informações gerais sobre o DataFrame\n",
    "print(\"\\nInformações sobre o DataFrame:\")\n",
    "print(df.info())"
   ]
  },
  {
   "cell_type": "markdown",
   "metadata": {},
   "source": [
    "#### Q2. Modelando os dados\n",
    "Você deve **criar um ORM com SQLAlchemy capaz de comportar os dados dessa base**.\n",
    "\n",
    "* Crie um campo de chave primária `ID`, que deve ser incrementado automaticamente\n",
    "* Os campos SEX, DESIGNATION e UNIT devem ser definidos como classes `Enum` com os possíveis valores (consulte os valores únicos dessas colunas)\n",
    "* Para os outros campos, consulte os tipos de dados informados na descrição acima"
   ]
  },
  {
   "cell_type": "code",
   "execution_count": 24,
   "metadata": {},
   "outputs": [
    {
     "name": "stderr",
     "output_type": "stream",
     "text": [
      "/tmp/ipykernel_7291/3015629240.py:13: MovedIn20Warning: The ``declarative_base()`` function is now available as sqlalchemy.orm.declarative_base(). (deprecated since: 2.0) (Background on SQLAlchemy 2.0 at: https://sqlalche.me/e/b8d9)\n",
      "  Base = declarative_base()\n"
     ]
    }
   ],
   "source": [
    "from sqlalchemy import (\n",
    "    Column,\n",
    "    Integer,\n",
    "    String,\n",
    "    Float,\n",
    "    Date,\n",
    "    Enum\n",
    ")\n",
    "from sqlalchemy.ext.declarative import declarative_base\n",
    "import enum\n",
    "\n",
    "# Base declarativa para o ORM\n",
    "Base = declarative_base()\n",
    "\n",
    "# Definição das classes Enum para SEX, DESIGNATION e UNIT\n",
    "class SexEnum(enum.Enum):\n",
    "    F = 'Feminino'\n",
    "    M = 'Masculino'\n",
    "\n",
    "class DesignationEnum(enum.Enum):\n",
    "    ANALYST = 'Analista'\n",
    "    SENIOR_ANALYST = 'Analista Sênior'\n",
    "    MANAGER = 'Gerente'\n",
    "\n",
    "class UnitEnum(enum.Enum):\n",
    "    IT = 'TI'\n",
    "    FINANCE = 'Finanças'\n",
    "    MARKETING = 'Marketing'\n",
    "\n",
    "# Definição do modelo ORM\n",
    "class Salary(Base):\n",
    "    __tablename__ = 'salaries'\n",
    "\n",
    "    id = Column(Integer, primary_key=True, autoincrement=True)  # Chave primária\n",
    "    first_name = Column(String, nullable=True)                # Primeiro nome\n",
    "    last_name = Column(String, nullable=True)                 # Sobrenome\n",
    "    sex = Column(Enum(SexEnum), nullable=True)                # Sexo\n",
    "    doj = Column(Date, nullable=True)                         # Data de ingresso\n",
    "    current_date = Column(Date, nullable=True)                # Data atual\n",
    "    designation = Column(Enum(DesignationEnum), nullable=True) # Designação\n",
    "    age = Column(Integer, nullable=True)                      # Idade\n",
    "    salary = Column(Float, nullable=True)                     # Salário\n",
    "    unit = Column(Enum(UnitEnum), nullable=True)              # Unidade\n",
    "    leaves_used = Column(Integer, nullable=True)              # Licenças usadas\n",
    "    leaves_remaining = Column(Integer, nullable=True)         # Licenças restantes\n",
    "    ratings = Column(Float, nullable=True)                    # Avaliações\n",
    "    past_exp = Column(Float, nullable=True)                   # Experiência anterior"
   ]
  },
  {
   "cell_type": "markdown",
   "metadata": {
    "vscode": {
     "languageId": "plaintext"
    }
   },
   "source": [
    "#### Q3. Estabelecendo uma conexão\n",
    "\n",
    "Usando o método `create_engine` do SQLAlchemy, crie uma conexão com um novo banco de dados SQLite chamado `salarios`."
   ]
  },
  {
   "cell_type": "code",
   "execution_count": 25,
   "metadata": {},
   "outputs": [
    {
     "name": "stdout",
     "output_type": "stream",
     "text": [
      "Conexão com o banco de dados 'salarios' estabelecida com sucesso.\n"
     ]
    }
   ],
   "source": [
    "from sqlalchemy import create_engine\n",
    "\n",
    "# Estabelecendo a conexão com o banco de dados SQLite chamado \"salarios\"\n",
    "engine = create_engine(\"sqlite:///salarios.db\")\n",
    "\n",
    "print(\"Conexão com o banco de dados 'salarios' estabelecida com sucesso.\")"
   ]
  },
  {
   "cell_type": "markdown",
   "metadata": {},
   "source": [
    "#### Q4. Criando as tabelas\n",
    "Crie as tabelas da questão Q2 no banco `salarios`."
   ]
  },
  {
   "cell_type": "code",
   "execution_count": 26,
   "metadata": {},
   "outputs": [
    {
     "name": "stdout",
     "output_type": "stream",
     "text": [
      "Tabelas criadas no banco de dados 'salarios' com sucesso.\n"
     ]
    }
   ],
   "source": [
    "# Criando todas as tabelas definidas no modelo ORM no banco de dados 'salarios'\n",
    "Base.metadata.create_all(engine)\n",
    "\n",
    "print(\"Tabelas criadas no banco de dados 'salarios' com sucesso.\")"
   ]
  },
  {
   "cell_type": "markdown",
   "metadata": {},
   "source": [
    "#### Q5. Populando\n",
    "\n",
    "Usando o método `to_sql` da biblioteca Pandas (veja [a documentação](https://pandas.pydata.org/docs/reference/api/pandas.DataFrame.to_sql.html)), popule o banco `salarios` com os dados do csv que você carregou na questão Q1.\n",
    "* Lembre-se de definir o parâmetro `if_exists='append'` para que as tabelas não sejam dropadas e recriadas."
   ]
  },
  {
   "cell_type": "code",
   "execution_count": 27,
   "metadata": {},
   "outputs": [
    {
     "name": "stdout",
     "output_type": "stream",
     "text": [
      "Dados inseridos na tabela 'salaries' com sucesso.\n"
     ]
    }
   ],
   "source": [
    "# Renomeando as colunas do DataFrame para corresponder aos nomes do modelo ORM\n",
    "df.rename(columns={\n",
    "    \"FIRST NAME\": \"first_name\",\n",
    "    \"LAST NAME\": \"last_name\",\n",
    "    \"SEX\": \"sex\",\n",
    "    \"DOJ\": \"doj\",\n",
    "    \"CURRENT DATE\": \"current_date\",\n",
    "    \"DESIGNATION\": \"designation\",\n",
    "    \"AGE\": \"age\",\n",
    "    \"SALARY\": \"salary\",\n",
    "    \"UNIT\": \"unit\",\n",
    "    \"LEAVES USED\": \"leaves_used\",\n",
    "    \"LEAVES REMAINING\": \"leaves_remaining\",\n",
    "    \"RATINGS\": \"ratings\",\n",
    "    \"PAST EXP\": \"past_exp\"\n",
    "}, inplace=True)\n",
    "\n",
    "# Inserindo os dados no banco de dados\n",
    "df.to_sql('salaries', con=engine, if_exists='append', index=False)\n",
    "\n",
    "print(\"Dados inseridos na tabela 'salaries' com sucesso.\")"
   ]
  },
  {
   "cell_type": "markdown",
   "metadata": {},
   "source": [
    "#### Q6. Consultas SQL vs ORM\n",
    "\n",
    "Agrupe os dados por DESIGNATION e selecione o mínimo, máximo e a média dos salários (SALARY) divididos por 12. Já que o atributo SALARY é anual, dividir por 12 nos mostrará os valores mensais.\n",
    "\n",
    "Assumindo que a variável que armazena a sua conexão se chama `engine`, você deve realizar a query acima de três formas:\n",
    "* Executando a query SQL através de uma instância de conexão retornada pelo método `engine.connect()`\n",
    "* Executando a query SQL com o método `read_sql_query` do Pandas (veja [a documentação](https://pandas.pydata.org/docs/reference/api/pandas.read_sql_query.html)). Você usará mesma instância `engine.connect()` como um dos parâmetros.\n",
    "* Executando uma query criada com o módulo `select` do SQLAlchemy. Sua execução deve ser feita através de um objeto `Session` do módulo `orm` do SQLAlchemy (`Session(engine)`).\n"
   ]
  },
  {
   "cell_type": "code",
   "execution_count": 29,
   "metadata": {},
   "outputs": [
    {
     "name": "stdout",
     "output_type": "stream",
     "text": [
      "Forma 1 - Resultado da Query via engine.connect():\n",
      "('Analyst', 3333.4166666666665, 4165.0, 3751.6759876859915)\n",
      "('Associate', 5846.166666666667, 8300.25, 7266.915094339625)\n",
      "('Director', 17832.25, 32342.666666666668, 23914.265625000004)\n",
      "('Manager', 8343.666666666666, 12407.5, 10522.716049382716)\n",
      "('Senior Analyst', 4170.333333333333, 5830.5, 4991.778792134831)\n",
      "('Senior Manager', 12614.416666666666, 16631.416666666668, 14888.689516129034)\n"
     ]
    }
   ],
   "source": [
    "# Forma 1: Executando a query SQL diretamente com engine.connect()\n",
    "with engine.connect() as connection:\n",
    "    result = connection.exec_driver_sql(\n",
    "        \"\"\"\n",
    "        SELECT DESIGNATION, \n",
    "               MIN(SALARY / 12) AS min_monthly_salary,\n",
    "               MAX(SALARY / 12) AS max_monthly_salary,\n",
    "               AVG(SALARY / 12) AS avg_monthly_salary\n",
    "        FROM salaries\n",
    "        GROUP BY DESIGNATION;\n",
    "        \"\"\"\n",
    "    )\n",
    "    print(\"Forma 1 - Resultado da Query via engine.connect():\")\n",
    "    for row in result:\n",
    "        print(row)"
   ]
  },
  {
   "cell_type": "code",
   "execution_count": 30,
   "metadata": {},
   "outputs": [
    {
     "name": "stdout",
     "output_type": "stream",
     "text": [
      "Forma 2 - Resultado da Query via Pandas (read_sql_query):\n",
      "      designation  min_monthly_salary  max_monthly_salary  avg_monthly_salary\n",
      "0         Analyst         3333.416667         4165.000000         3751.675988\n",
      "1       Associate         5846.166667         8300.250000         7266.915094\n",
      "2        Director        17832.250000        32342.666667        23914.265625\n",
      "3         Manager         8343.666667        12407.500000        10522.716049\n",
      "4  Senior Analyst         4170.333333         5830.500000         4991.778792\n",
      "5  Senior Manager        12614.416667        16631.416667        14888.689516\n"
     ]
    }
   ],
   "source": [
    "# Forma 2: Executando a query SQL com Pandas (read_sql_query)\n",
    "query = \"\"\"\n",
    "    SELECT DESIGNATION, \n",
    "           MIN(SALARY / 12) AS min_monthly_salary,\n",
    "           MAX(SALARY / 12) AS max_monthly_salary,\n",
    "           AVG(SALARY / 12) AS avg_monthly_salary\n",
    "    FROM salaries\n",
    "    GROUP BY DESIGNATION;\n",
    "\"\"\"\n",
    "df_result = pd.read_sql_query(query, con=engine.connect())\n",
    "print(\"Forma 2 - Resultado da Query via Pandas (read_sql_query):\")\n",
    "print(df_result)"
   ]
  },
  {
   "cell_type": "code",
   "execution_count": 33,
   "metadata": {},
   "outputs": [
    {
     "name": "stdout",
     "output_type": "stream",
     "text": [
      "Forma 3 - Resultado da Query via SQLAlchemy (select + Session):\n",
      "('Analyst', 3333.4166666666665, 4165.0, 3751.6759876859915)\n",
      "('Associate', 5846.166666666667, 8300.25, 7266.915094339625)\n",
      "('Director', 17832.25, 32342.666666666668, 23914.265625000004)\n",
      "('Manager', 8343.666666666666, 12407.5, 10522.716049382716)\n",
      "('Senior Analyst', 4170.333333333333, 5830.5, 4991.778792134831)\n",
      "('Senior Manager', 12614.416666666666, 16631.416666666668, 14888.689516129034)\n"
     ]
    }
   ],
   "source": [
    "from sqlalchemy import func, select, literal_column\n",
    "from sqlalchemy.orm import Session\n",
    "\n",
    "# Consulta ajustada para tratar os valores de Enum como strings diretamente\n",
    "with Session(engine) as session:\n",
    "    stmt = (\n",
    "        select(\n",
    "            literal_column(\"designation\").label(\"designation\"),  # Tratar como string\n",
    "            func.min(Salary.salary / 12).label(\"min_monthly_salary\"),\n",
    "            func.max(Salary.salary / 12).label(\"max_monthly_salary\"),\n",
    "            func.avg(Salary.salary / 12).label(\"avg_monthly_salary\"),\n",
    "        )\n",
    "        .group_by(literal_column(\"designation\"))\n",
    "    )\n",
    "    result = session.execute(stmt)\n",
    "    print(\"Forma 3 - Resultado da Query via SQLAlchemy (select + Session):\")\n",
    "    for row in result:\n",
    "        print(row)"
   ]
  }
 ],
 "metadata": {
  "kernelspec": {
   "display_name": "Python 3",
   "language": "python",
   "name": "python3"
  },
  "language_info": {
   "codemirror_mode": {
    "name": "ipython",
    "version": 3
   },
   "file_extension": ".py",
   "mimetype": "text/x-python",
   "name": "python",
   "nbconvert_exporter": "python",
   "pygments_lexer": "ipython3",
   "version": "3.10.12"
  }
 },
 "nbformat": 4,
 "nbformat_minor": 2
}
