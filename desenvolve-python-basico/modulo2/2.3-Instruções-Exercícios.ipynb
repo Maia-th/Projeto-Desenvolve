{
  "cells": [
    {
      "cell_type": "markdown",
      "metadata": {
        "id": "1pCTdOHonv5f"
      },
      "source": [
        "# Módulo 2\n",
        "\n",
        "## 2.3 Instruções e Expressões\n",
        "\n",
        "### Q1\n",
        "\n",
        "Faça um programa que armazene o valor de 20 reais de salário por hora de um trabalhador, e o número de 40 horas trabalhadas na semana. Com essas informações, calcule e imprima:\n",
        "- Salário semanal bruto\n",
        "- Valor descontado por semana INSS (10% do bruto)\n",
        "- Valor descontado por semana pelo sindicato (5% do bruto)\n",
        "- Salário semanal líquido (Bruto - Descontos)"
      ]
    },
    {
      "cell_type": "code",
      "execution_count": 2,
      "metadata": {
        "id": "hVbX0I97nj6M"
      },
      "outputs": [
        {
          "name": "stdout",
          "output_type": "stream",
          "text": [
            "Salario Semanal Bruto: 800\n",
            "Desconto INSS: 80.0\n",
            "Desconto Sindicato: 40.0\n",
            "Salario Semanal Liquido: 680.0\n"
          ]
        }
      ],
      "source": [
        "salarioHora = 20\n",
        "jornadaDeTrabalho = 40\n",
        "\n",
        "salarioBruto = salarioHora * jornadaDeTrabalho\n",
        "descontoInss = (10 / 100) * salarioBruto\n",
        "descontoSindicato = (5 / 100) * salarioBruto\n",
        "salarioLiquido = salarioBruto - descontoInss - descontoSindicato\n",
        "\n",
        "print(f'Salario Semanal Bruto: {salarioBruto}\\nDesconto INSS: {descontoInss}\\nDesconto Sindicato: {descontoSindicato}\\nSalario Semanal Liquido: {salarioLiquido}')"
      ]
    },
    {
      "cell_type": "markdown",
      "metadata": {
        "id": "pIxKX9J2oGZ1"
      },
      "source": [
        "### Q2\n",
        "\n",
        "Altere o programa anterior para a partir dos valores de horas trabalhadas por semana e salário por hora, calcular **em somente duas instruções**:\n",
        "- Salário semanal bruto\n",
        "- Salário semanal líquido com todos os descontos. Para a segunda instrução, realize todos os cálculos aritméticos em uma expressão composta.\n"
      ]
    },
    {
      "cell_type": "code",
      "execution_count": 3,
      "metadata": {
        "id": "pAHw9Xf9oGoi"
      },
      "outputs": [
        {
          "name": "stdout",
          "output_type": "stream",
          "text": [
            "Salario Semanal Bruto: 800\n",
            "Salario Semanal Liquido: 680.0\n"
          ]
        }
      ],
      "source": [
        "salarioBruto = 20 * 40\n",
        "salarioLiquido = salarioBruto - (((10 / 100) * salarioBruto)+((5 / 100) * salarioBruto))\n",
        "\n",
        "print(f'Salario Semanal Bruto: {salarioBruto}\\nSalario Semanal Liquido: {salarioLiquido}')"
      ]
    },
    {
      "cell_type": "markdown",
      "metadata": {
        "id": "m8tlHRuWpBOB"
      },
      "source": [
        "### Q3\n",
        "\n",
        "Você está desenvolvendo um software de conversão de moeda e precisa calcular o valor equivalente em yuan chinês a partir de uma quantia em real. A taxa de câmbio é de 0.69 BRL (real) para 1 CNY (yuan). Escreva um programa que define em uma variável uma quantia em reais (BRL) e calcula o valor equivalente em yuan (CNY). Imprima o resultado."
      ]
    },
    {
      "cell_type": "code",
      "execution_count": 19,
      "metadata": {
        "id": "2bPw7uF6oeL9"
      },
      "outputs": [
        {
          "name": "stdout",
          "output_type": "stream",
          "text": [
            "500 BRL equivale a 724.64 CNY\n"
          ]
        }
      ],
      "source": [
        "saldoReais = 500\n",
        "saldoYuan = saldoReais / 0.69\n",
        "\n",
        "print(f'{saldoReais} BRL equivale a {round(saldoYuan,2)} CNY')"
      ]
    },
    {
      "cell_type": "markdown",
      "metadata": {
        "id": "-Na3ltDCp74A"
      },
      "source": [
        "### Q4\n",
        "\n",
        "Você é um treinador de corrida e deseja calcular a velocidade média que um atleta precisa manter para completar a Maratona Internacional de São Silvestre, que tem uma distância total de 42.195 km. A fórmula para calcular a velocidade média ($v\\_media$) é dada por $v\\_media = \\frac{distancia}{tempo}$ . Escreva um programa em Python para calcular a velocidade média necessária para completar a maratona em 3 horas.\n",
        "\n",
        "**Calcule e imprima o resultado em metros/segundo**, ou seja, converta a distância de quilômetros para metros ($metro = \\frac{km}{1000}$) e a velocidade de horas para segundos $(segundo = \\frac{hora}{3600})$."
      ]
    },
    {
      "cell_type": "code",
      "execution_count": 20,
      "metadata": {
        "id": "Bn6l8kcSrE4L"
      },
      "outputs": [
        {
          "name": "stdout",
          "output_type": "stream",
          "text": [
            "A velocidade media necessaria para completar a corrida em 3 horas é de: 3.91 M/s\n"
          ]
        }
      ],
      "source": [
        "distanciaEmMetros = 42.195 * 1000\n",
        "tempoEmSegundos = 3 * 3600\n",
        "\n",
        "velocidadeMeida = distanciaEmMetros / tempoEmSegundos\n",
        "\n",
        "print (f'A velocidade media necessaria para completar a corrida em 3 horas é de: {round(velocidadeMeida,2)} M/s')"
      ]
    }
  ],
  "metadata": {
    "colab": {
      "provenance": []
    },
    "kernelspec": {
      "display_name": "Python 3",
      "name": "python3"
    },
    "language_info": {
      "codemirror_mode": {
        "name": "ipython",
        "version": 3
      },
      "file_extension": ".py",
      "mimetype": "text/x-python",
      "name": "python",
      "nbconvert_exporter": "python",
      "pygments_lexer": "ipython3",
      "version": "3.10.12"
    }
  },
  "nbformat": 4,
  "nbformat_minor": 0
}
